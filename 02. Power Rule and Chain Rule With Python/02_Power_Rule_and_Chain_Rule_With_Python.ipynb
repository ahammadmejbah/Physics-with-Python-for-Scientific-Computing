{
  "nbformat": 4,
  "nbformat_minor": 0,
  "metadata": {
    "colab": {
      "private_outputs": true,
      "provenance": [],
      "generative_ai_disabled": true
    },
    "kernelspec": {
      "name": "python3",
      "display_name": "Python 3"
    },
    "language_info": {
      "name": "python"
    }
  },
  "cells": [
    {
      "cell_type": "code",
      "execution_count": null,
      "metadata": {
        "id": "tAGUWjRpti05"
      },
      "outputs": [],
      "source": [
        "import numpy as np\n",
        "import matplotlib.pyplot as plt\n",
        "\n",
        "def f(x):\n",
        "    return x**5 - 3*x**2 + 7\n",
        "\n",
        "def df(x):\n",
        "    return 5*x**4 - 6*x\n",
        "\n",
        "def central_diff(f, x0, h =1e-6):\n",
        "    return (f(x0+h) - f(x0-h)) / (2*h)\n",
        "\n",
        "\n",
        "# Visualization\n",
        "xs = np.linspace(-3, 3, 500)\n",
        "plt.plot(xs, f(xs), label= \"f(x)\")\n",
        "plt.plot(xs, df(xs), label = \"df(x)\")\n",
        "plt.title(\"Power Rule: x**5 - 3*x**2 + 7\")\n",
        "plt.xlabel(\"x\") # plt.xlabel() ; plt.ylabel()\n",
        "plt.ylabel(\"value\")\n",
        "plt.legend()\n",
        "plt.grid(True)\n",
        "plt.show()"
      ]
    },
    {
      "cell_type": "code",
      "source": [
        "for x0 in [-3, 2, 1, 0, 1, 2, 3]:\n",
        "    #print(x0)\n",
        "    print(x0, central_diff(f, x0), df(x0))"
      ],
      "metadata": {
        "id": "U5NY1mjOw_ju"
      },
      "execution_count": null,
      "outputs": []
    },
    {
      "cell_type": "code",
      "source": [],
      "metadata": {
        "id": "tNzjp2jzxzRQ"
      },
      "execution_count": null,
      "outputs": []
    }
  ]
}