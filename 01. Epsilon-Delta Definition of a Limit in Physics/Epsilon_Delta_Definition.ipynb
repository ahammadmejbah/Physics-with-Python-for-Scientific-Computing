{
  "nbformat": 4,
  "nbformat_minor": 0,
  "metadata": {
    "colab": {
      "private_outputs": true,
      "provenance": []
    },
    "kernelspec": {
      "name": "python3",
      "display_name": "Python 3"
    },
    "language_info": {
      "name": "python"
    }
  },
  "cells": [
    {
      "cell_type": "code",
      "execution_count": null,
      "metadata": {
        "id": "5vXqpGMjEINf"
      },
      "outputs": [],
      "source": [
        "import math\n",
        "import numpy as np\n",
        "import matplotlib.pyplot as plt"
      ]
    },
    {
      "cell_type": "code",
      "source": [
        "def f(x):\n",
        "    return math.sin(x)/x if x!=0 else 1.0"
      ],
      "metadata": {
        "id": "FFuwWhj-IJDN"
      },
      "execution_count": null,
      "outputs": []
    },
    {
      "cell_type": "code",
      "source": [
        "a = 0.0 #\n",
        "L = 1.0\n",
        "epsilon = 1e-4"
      ],
      "metadata": {
        "id": "_3dLOdlXJymQ"
      },
      "execution_count": null,
      "outputs": []
    },
    {
      "cell_type": "code",
      "source": [
        "def condition_function(delta, data_samples = 10000):\n",
        "    x_axis_data = np.linspace(a-delta, a+delta, data_samples)\n",
        "    x_axis_limit = x_axis_data[np.abs(x_axis_data - a)>1e-15]\n",
        "    x_axis_data_values = np.array([f(float(x)) for x in x_axis_data])\n",
        "    return np.all(np.abs(x_axis_data_values - L) < epsilon)"
      ],
      "metadata": {
        "id": "QoutW4FxKSbQ"
      },
      "execution_count": null,
      "outputs": []
    },
    {
      "cell_type": "code",
      "source": [
        "delta  = 0.1\n",
        "\n",
        "for _  in range(100):\n",
        "    if condition_function(delta):\n",
        "        break\n",
        "    delta *=0.5 # delta = delta * 0.5"
      ],
      "metadata": {
        "id": "FCVJ2CVqMj6h"
      },
      "execution_count": null,
      "outputs": []
    },
    {
      "cell_type": "code",
      "source": [
        "x_axis_window = max(0.25, 10.0*delta)\n",
        "x_axis_new_data = np.linspace(a - x_axis_window, a+x_axis_window, 3000)\n",
        "y_axis_new_data = np.array([f(float(x)) for x in x_axis_new_data])"
      ],
      "metadata": {
        "id": "j9P7_b7TNQls"
      },
      "execution_count": null,
      "outputs": []
    },
    {
      "cell_type": "code",
      "source": [
        "#plt.figure(figsize = (10, 8))\n",
        "plt.figure()\n",
        "plt.plot(x_axis_new_data, y_axis_new_data, label = \"f(x) = sin(x)/x\")\n",
        "plt.axhline(L+epsilon, linestyle=\"--\", label =\"L+epsilon\")\n",
        "plt.axhline(L-epsilon, linestyle=\"--\", label =\"L-epsilon\")\n",
        "plt.axvline(a-delta, linestyle=\":\", label =\"a-delta\")\n",
        "plt.axvline(a+delta, linestyle=\":\", label =\"a-delta\")\n",
        "plt.title(f\"Epsilon-Delta Definition: Visual Representation\\n epsilon-delta at a= {a}, L= {L} (epsilon={epsilon}, delta = {delta})\")\n",
        "plt.xlabel(\"x\")\n",
        "plt.ylabel(\"f(x)\")\n",
        "plt.legend(loc=\"best\")\n",
        "plt.grid(True, alpha =0.3)\n",
        "plt.savefig(\"/content/Epsilon_Delta_Definition.png\", dpi= 160, bbox_inches = \"tight\")\n",
        "plt.show()"
      ],
      "metadata": {
        "id": "pVmt1FM_OKjO"
      },
      "execution_count": null,
      "outputs": []
    },
    {
      "cell_type": "code",
      "source": [],
      "metadata": {
        "id": "AK4h5xLMRS7O"
      },
      "execution_count": null,
      "outputs": []
    }
  ]
}